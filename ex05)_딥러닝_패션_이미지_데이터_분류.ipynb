{
  "nbformat": 4,
  "nbformat_minor": 0,
  "metadata": {
    "colab": {
      "provenance": [],
      "gpuType": "T4",
      "mount_file_id": "16nkIC9JegejilK3TETkyt85Q6p5YUYtW",
      "authorship_tag": "ABX9TyPyLu0HZM9fDnm4cB+aA/Rp",
      "include_colab_link": true
    },
    "kernelspec": {
      "name": "python3",
      "display_name": "Python 3"
    },
    "language_info": {
      "name": "python"
    },
    "accelerator": "GPU"
  },
  "cells": [
    {
      "cell_type": "markdown",
      "metadata": {
        "id": "view-in-github",
        "colab_type": "text"
      },
      "source": [
        "<a href=\"https://colab.research.google.com/github/mongmongmingming/DongStudy/blob/main/ex05)_%EB%94%A5%EB%9F%AC%EB%8B%9D_%ED%8C%A8%EC%85%98_%EC%9D%B4%EB%AF%B8%EC%A7%80_%EB%8D%B0%EC%9D%B4%ED%84%B0_%EB%B6%84%EB%A5%98.ipynb\" target=\"_parent\"><img src=\"https://colab.research.google.com/assets/colab-badge.svg\" alt=\"Open In Colab\"/></a>"
      ]
    },
    {
      "cell_type": "markdown",
      "source": [
        "### 목표\n",
        "- 10 종류의 패션 이미지 데이터를 분류하는 신경망 모델을 만들어보자 !"
      ],
      "metadata": {
        "id": "J6y_s_DhJSwP"
      }
    },
    {
      "cell_type": "code",
      "source": [
        "import numpy as np\n",
        "import pandas as pd\n",
        "import matplotlib.pyplot as plt\n",
        "# keras에서 지원하는 딥러닝 학습용 손글씨 이미지 데이터 임포트\n",
        "from tensorflow.keras.datasets import fashion_mnist"
      ],
      "metadata": {
        "id": "fzth7_v3Ghr-"
      },
      "execution_count": null,
      "outputs": []
    },
    {
      "cell_type": "code",
      "source": [
        "data = fashion_mnist.load_data()"
      ],
      "metadata": {
        "id": "ZmU5mNP0Fvtz"
      },
      "execution_count": null,
      "outputs": []
    },
    {
      "cell_type": "code",
      "source": [
        "len(data)\n"
      ],
      "metadata": {
        "colab": {
          "base_uri": "https://localhost:8080/"
        },
        "id": "tiqFLxfRF5f4",
        "outputId": "099cd17a-9638-459a-cc3c-c8ba5cdf70f7"
      },
      "execution_count": null,
      "outputs": [
        {
          "output_type": "execute_result",
          "data": {
            "text/plain": [
              "2"
            ]
          },
          "metadata": {},
          "execution_count": 3
        }
      ]
    },
    {
      "cell_type": "code",
      "source": [
        "(X_train, y_train), (X_test, y_test) = data"
      ],
      "metadata": {
        "id": "hKpYB00jGBuO"
      },
      "execution_count": null,
      "outputs": []
    },
    {
      "cell_type": "code",
      "source": [
        "print(X_train.shape)\n",
        "print(X_test.shape)\n",
        "print(y_train.shape)\n",
        "print(y_test.shape)"
      ],
      "metadata": {
        "colab": {
          "base_uri": "https://localhost:8080/"
        },
        "id": "qzX5hxLlGKSu",
        "outputId": "d4591fb1-706f-40cd-cada-bc5026df4cbc"
      },
      "execution_count": null,
      "outputs": [
        {
          "output_type": "stream",
          "name": "stdout",
          "text": [
            "(60000, 28, 28)\n",
            "(10000, 28, 28)\n",
            "(60000,)\n",
            "(10000,)\n"
          ]
        }
      ]
    },
    {
      "cell_type": "code",
      "source": [
        "plt.imshow(X_train[8], cmap = 'gray')"
      ],
      "metadata": {
        "colab": {
          "base_uri": "https://localhost:8080/",
          "height": 448
        },
        "id": "q6B59UYNGPkF",
        "outputId": "cb68af5d-daaf-48d1-9038-e18e9f113087"
      },
      "execution_count": null,
      "outputs": [
        {
          "output_type": "execute_result",
          "data": {
            "text/plain": [
              "<matplotlib.image.AxesImage at 0x7bb96a2e2350>"
            ]
          },
          "metadata": {},
          "execution_count": 6
        },
        {
          "output_type": "display_data",
          "data": {
            "text/plain": [
              "<Figure size 640x480 with 1 Axes>"
            ],
            "image/png": "[encoded data removed]"
          },
          "metadata": {}
        }
      ]
    },
    {
      "cell_type": "code",
      "source": [
        "pd.get_dummies(y_train)"
      ],
      "metadata": {
        "colab": {
          "base_uri": "https://localhost:8080/",
          "height": 423
        },
        "id": "n0Prq4NCGtXg",
        "outputId": "f614454d-10a5-41c8-aa4e-fd5399f9e922"
      },
      "execution_count": null,
      "outputs": [
        {
          "output_type": "execute_result",
          "data": {
            "text/plain": [
              "       0  1  2  3  4  5  6  7  8  9\n",
              "0      0  0  0  0  0  0  0  0  0  1\n",
              "1      1  0  0  0  0  0  0  0  0  0\n",
              "2      1  0  0  0  0  0  0  0  0  0\n",
              "3      0  0  0  1  0  0  0  0  0  0\n",
              "4      1  0  0  0  0  0  0  0  0  0\n",
              "...   .. .. .. .. .. .. .. .. .. ..\n",
              "59995  0  0  0  0  0  1  0  0  0  0\n",
              "59996  0  1  0  0  0  0  0  0  0  0\n",
              "59997  0  0  0  1  0  0  0  0  0  0\n",
              "59998  1  0  0  0  0  0  0  0  0  0\n",
              "59999  0  0  0  0  0  1  0  0  0  0\n",
              "\n",
              "[60000 rows x 10 columns]"
            ],
            "text/html": [
              "\n",
              "  <div id=\"df-7ce315ad-6297-4d2f-a64b-230fd46424df\" class=\"colab-df-container\">\n",
              "    <div>\n",
              "<style scoped>\n",
              "    .dataframe tbody tr th:only-of-type {\n",
              "        vertical-align: middle;\n",
              "    }\n",
              "\n",
              "    .dataframe tbody tr th {\n",
              "        vertical-align: top;\n",
              "    }\n",
              "\n",
              "    .dataframe thead th {\n",
              "        text-align: right;\n",
              "    }\n",
              "</style>\n",
              "<table border=\"1\" class=\"dataframe\">\n",
              "  <thead>\n",
              "    <tr style=\"text-align: right;\">\n",
              "      <th></th>\n",
              "      <th>0</th>\n",
              "      <th>1</th>\n",
              "      <th>2</th>\n",
              "      <th>3</th>\n",
              "      <th>4</th>\n",
              "      <th>5</th>\n",
              "      <th>6</th>\n",
              "      <th>7</th>\n",
              "      <th>8</th>\n",
              "      <th>9</th>\n",
              "    </tr>\n",
              "  </thead>\n",
              "  <tbody>\n",
              "    <tr>\n",
              "      <th>0</th>\n",
              "      <td>0</td>\n",
              "      <td>0</td>\n",
              "      <td>0</td>\n",
              "      <td>0</td>\n",
              "      <td>0</td>\n",
              "      <td>0</td>\n",
              "      <td>0</td>\n",
              "      <td>0</td>\n",
              "      <td>0</td>\n",
              "      <td>1</td>\n",
              "    </tr>\n",
              "    <tr>\n",
              "      <th>1</th>\n",
              "      <td>1</td>\n",
              "      <td>0</td>\n",
              "      <td>0</td>\n",
              "      <td>0</td>\n",
              "      <td>0</td>\n",
              "      <td>0</td>\n",
              "      <td>0</td>\n",
              "      <td>0</td>\n",
              "      <td>0</td>\n",
              "      <td>0</td>\n",
              "    </tr>\n",
              "    <tr>\n",
              "      <th>2</th>\n",
              "      <td>1</td>\n",
              "      <td>0</td>\n",
              "      <td>0</td>\n",
              "      <td>0</td>\n",
              "      <td>0</td>\n",
              "      <td>0</td>\n",
              "      <td>0</td>\n",
              "      <td>0</td>\n",
              "      <td>0</td>\n",
              "      <td>0</td>\n",
              "    </tr>\n",
              "    <tr>\n",
              "      <th>3</th>\n",
              "      <td>0</td>\n",
              "      <td>0</td>\n",
              "      <td>0</td>\n",
              "      <td>1</td>\n",
              "      <td>0</td>\n",
              "      <td>0</td>\n",
              "      <td>0</td>\n",
              "      <td>0</td>\n",
              "      <td>0</td>\n",
              "      <td>0</td>\n",
              "    </tr>\n",
              "    <tr>\n",
              "      <th>4</th>\n",
              "      <td>1</td>\n",
              "      <td>0</td>\n",
              "      <td>0</td>\n",
              "      <td>0</td>\n",
              "      <td>0</td>\n",
              "      <td>0</td>\n",
              "      <td>0</td>\n",
              "      <td>0</td>\n",
              "      <td>0</td>\n",
              "      <td>0</td>\n",
              "    </tr>\n",
              "    <tr>\n",
              "      <th>...</th>\n",
              "      <td>...</td>\n",
              "      <td>...</td>\n",
              "      <td>...</td>\n",
              "      <td>...</td>\n",
              "      <td>...</td>\n",
              "      <td>...</td>\n",
              "      <td>...</td>\n",
              "      <td>...</td>\n",
              "      <td>...</td>\n",
              "      <td>...</td>\n",
              "    </tr>\n",
              "    <tr>\n",
              "      <th>59995</th>\n",
              "      <td>0</td>\n",
              "      <td>0</td>\n",
              "      <td>0</td>\n",
              "      <td>0</td>\n",
              "      <td>0</td>\n",
              "      <td>1</td>\n",
              "      <td>0</td>\n",
              "      <td>0</td>\n",
              "      <td>0</td>\n",
              "      <td>0</td>\n",
              "    </tr>\n",
              "    <tr>\n",
              "      <th>59996</th>\n",
              "      <td>0</td>\n",
              "      <td>1</td>\n",
              "      <td>0</td>\n",
              "      <td>0</td>\n",
              "      <td>0</td>\n",
              "      <td>0</td>\n",
              "      <td>0</td>\n",
              "      <td>0</td>\n",
              "      <td>0</td>\n",
              "      <td>0</td>\n",
              "    </tr>\n",
              "    <tr>\n",
              "      <th>59997</th>\n",
              "      <td>0</td>\n",
              "      <td>0</td>\n",
              "      <td>0</td>\n",
              "      <td>1</td>\n",
              "      <td>0</td>\n",
              "      <td>0</td>\n",
              "      <td>0</td>\n",
              "      <td>0</td>\n",
              "      <td>0</td>\n",
              "      <td>0</td>\n",
              "    </tr>\n",
              "    <tr>\n",
              "      <th>59998</th>\n",
              "      <td>1</td>\n",
              "      <td>0</td>\n",
              "      <td>0</td>\n",
              "      <td>0</td>\n",
              "      <td>0</td>\n",
              "      <td>0</td>\n",
              "      <td>0</td>\n",
              "      <td>0</td>\n",
              "      <td>0</td>\n",
              "      <td>0</td>\n",
              "    </tr>\n",
              "    <tr>\n",
              "      <th>59999</th>\n",
              "      <td>0</td>\n",
              "      <td>0</td>\n",
              "      <td>0</td>\n",
              "      <td>0</td>\n",
              "      <td>0</td>\n",
              "      <td>1</td>\n",
              "      <td>0</td>\n",
              "      <td>0</td>\n",
              "      <td>0</td>\n",
              "      <td>0</td>\n",
              "    </tr>\n",
              "  </tbody>\n",
              "</table>\n",
              "<p>60000 rows × 10 columns</p>\n",
              "</div>\n",
              "    <div class=\"colab-df-buttons\">\n",
              "\n",
              "  <div class=\"colab-df-container\">\n",
              "    <button class=\"colab-df-convert\" onclick=\"convertToInteractive('df-7ce315ad-6297-4d2f-a64b-230fd46424df')\"\n",
              "            title=\"Convert this dataframe to an interactive table.\"\n",
              "            style=\"display:none;\">\n",
              "\n",
              "  <svg xmlns=\"http://www.w3.org/2000/svg\" height=\"24px\" viewBox=\"0 -960 960 960\">\n",
              "    <path d=\"M120-120v-720h720v720H120Zm60-500h600v-160H180v160Zm220 220h160v-160H400v160Zm0 220h160v-160H400v160ZM180-400h160v-160H180v160Zm440 0h160v-160H620v160ZM180-180h160v-160H180v160Zm440 0h160v-160H620v160Z\"/>\n",
              "  </svg>\n",
              "    </button>\n",
              "\n",
              "  <style>\n",
              "    .colab-df-container {\n",
              "      display:flex;\n",
              "      gap: 12px;\n",
              "    }\n",
              "\n",
              "    .colab-df-convert {\n",
              "      background-color: #E8F0FE;\n",
              "      border: none;\n",
              "      border-radius: 50%;\n",
              "      cursor: pointer;\n",
              "      display: none;\n",
              "      fill: #1967D2;\n",
              "      height: 32px;\n",
              "      padding: 0 0 0 0;\n",
              "      width: 32px;\n",
              "    }\n",
              "\n",
              "    .colab-df-convert:hover {\n",
              "      background-color: #E2EBFA;\n",
              "      box-shadow: 0px 1px 2px rgba(60, 64, 67, 0.3), 0px 1px 3px 1px rgba(60, 64, 67, 0.15);\n",
              "      fill: #174EA6;\n",
              "    }\n",
              "\n",
              "    .colab-df-buttons div {\n",
              "      margin-bottom: 4px;\n",
              "    }\n",
              "\n",
              "    [theme=dark] .colab-df-convert {\n",
              "      background-color: #3B4455;\n",
              "      fill: #D2E3FC;\n",
              "    }\n",
              "\n",
              "    [theme=dark] .colab-df-convert:hover {\n",
              "      background-color: #434B5C;\n",
              "      box-shadow: 0px 1px 3px 1px rgba(0, 0, 0, 0.15);\n",
              "      filter: drop-shadow(0px 1px 2px rgba(0, 0, 0, 0.3));\n",
              "      fill: #FFFFFF;\n",
              "    }\n",
              "  </style>\n",
              "\n",
              "    <script>\n",
              "      const buttonEl =\n",
              "        document.querySelector('#df-7ce315ad-6297-4d2f-a64b-230fd46424df button.colab-df-convert');\n",
              "      buttonEl.style.display =\n",
              "        google.colab.kernel.accessAllowed ? 'block' : 'none';\n",
              "\n",
              "      async function convertToInteractive(key) {\n",
              "        const element = document.querySelector('#df-7ce315ad-6297-4d2f-a64b-230fd46424df');\n",
              "        const dataTable =\n",
              "          await google.colab.kernel.invokeFunction('convertToInteractive',\n",
              "                                                    [key], {});\n",
              "        if (!dataTable) return;\n",
              "\n",
              "        const docLinkHtml = 'Like what you see? Visit the ' +\n",
              "          '<a target=\"_blank\" href=https://colab.research.google.com/notebooks/data_table.ipynb>data table notebook</a>'\n",
              "          + ' to learn more about interactive tables.';\n",
              "        element.innerHTML = '';\n",
              "        dataTable['output_type'] = 'display_data';\n",
              "        await google.colab.output.renderOutput(dataTable, element);\n",
              "        const docLink = document.createElement('div');\n",
              "        docLink.innerHTML = docLinkHtml;\n",
              "        element.appendChild(docLink);\n",
              "      }\n",
              "    </script>\n",
              "  </div>\n",
              "\n",
              "\n",
              "<div id=\"df-0ff6c2a3-4725-4cfe-9b68-ad4048eeba4f\">\n",
              "  <button class=\"colab-df-quickchart\" onclick=\"quickchart('df-0ff6c2a3-4725-4cfe-9b68-ad4048eeba4f')\"\n",
              "            title=\"Suggest charts.\"\n",
              "            style=\"display:none;\">\n",
              "\n",
              "<svg xmlns=\"http://www.w3.org/2000/svg\" height=\"24px\"viewBox=\"0 0 24 24\"\n",
              "     width=\"24px\">\n",
              "    <g>\n",
              "        <path d=\"M19 3H5c-1.1 0-2 .9-2 2v14c0 1.1.9 2 2 2h14c1.1 0 2-.9 2-2V5c0-1.1-.9-2-2-2zM9 17H7v-7h2v7zm4 0h-2V7h2v10zm4 0h-2v-4h2v4z\"/>\n",
              "    </g>\n",
              "</svg>\n",
              "  </button>\n",
              "\n",
              "<style>\n",
              "  .colab-df-quickchart {\n",
              "    background-color: #E8F0FE;\n",
              "    border: none;\n",
              "    border-radius: 50%;\n",
              "    cursor: pointer;\n",
              "    display: none;\n",
              "    fill: #1967D2;\n",
              "    height: 32px;\n",
              "    padding: 0 0 0 0;\n",
              "    width: 32px;\n",
              "  }\n",
              "\n",
              "  .colab-df-quickchart:hover {\n",
              "    background-color: #E2EBFA;\n",
              "    box-shadow: 0px 1px 2px rgba(60, 64, 67, 0.3), 0px 1px 3px 1px rgba(60, 64, 67, 0.15);\n",
              "    fill: #174EA6;\n",
              "  }\n",
              "\n",
              "  [theme=dark] .colab-df-quickchart {\n",
              "    background-color: #3B4455;\n",
              "    fill: #D2E3FC;\n",
              "  }\n",
              "\n",
              "  [theme=dark] .colab-df-quickchart:hover {\n",
              "    background-color: #434B5C;\n",
              "    box-shadow: 0px 1px 3px 1px rgba(0, 0, 0, 0.15);\n",
              "    filter: drop-shadow(0px 1px 2px rgba(0, 0, 0, 0.3));\n",
              "    fill: #FFFFFF;\n",
              "  }\n",
              "</style>\n",
              "\n",
              "  <script>\n",
              "    async function quickchart(key) {\n",
              "      const charts = await google.colab.kernel.invokeFunction(\n",
              "          'suggestCharts', [key], {});\n",
              "    }\n",
              "    (() => {\n",
              "      let quickchartButtonEl =\n",
              "        document.querySelector('#df-0ff6c2a3-4725-4cfe-9b68-ad4048eeba4f button');\n",
              "      quickchartButtonEl.style.display =\n",
              "        google.colab.kernel.accessAllowed ? 'block' : 'none';\n",
              "    })();\n",
              "  </script>\n",
              "</div>\n",
              "    </div>\n",
              "  </div>\n"
            ]
          },
          "metadata": {},
          "execution_count": 7
        }
      ]
    },
    {
      "cell_type": "markdown",
      "source": [
        "- 정답 데이터 원핫인코딩"
      ],
      "metadata": {
        "id": "aApiQvi1Ps-b"
      }
    },
    {
      "cell_type": "code",
      "source": [
        "from tensorflow.keras.utils import to_categorical\n",
        "\n",
        "y_train_one_hot = to_categorical(y_train)\n",
        "y_test_one_hot = to_categorical(y_test)\n",
        "\n",
        "y_train_one_hot.shape, y_test_one_hot.shape"
      ],
      "metadata": {
        "colab": {
          "base_uri": "https://localhost:8080/"
        },
        "id": "t_Rtv0s9K_Sy",
        "outputId": "c5ca133f-bddb-40aa-e689-81380f04ebbb"
      },
      "execution_count": null,
      "outputs": [
        {
          "output_type": "execute_result",
          "data": {
            "text/plain": [
              "((60000, 10), (10000, 10))"
            ]
          },
          "metadata": {},
          "execution_count": 8
        }
      ]
    },
    {
      "cell_type": "code",
      "source": [
        "X_train.shape, X_test.shape\n",
        "# 이미지는 픽셀 하나하나가 데이터의 특성으로 인지됨\n",
        "# 현재 2차원으로 1차원 변경 필요(reshape 사용은 ex04에 있음.)"
      ],
      "metadata": {
        "colab": {
          "base_uri": "https://localhost:8080/"
        },
        "id": "Yp8qgXtdLf5C",
        "outputId": "b8fa55af-e961-4724-ba16-f3f68b07c1dd"
      },
      "execution_count": null,
      "outputs": [
        {
          "output_type": "execute_result",
          "data": {
            "text/plain": [
              "((60000, 28, 28), (10000, 28, 28))"
            ]
          },
          "metadata": {},
          "execution_count": 9
        }
      ]
    },
    {
      "cell_type": "code",
      "source": [
        "from tensorflow.keras import Sequential\n",
        "from tensorflow.keras.layers import Dense, Flatten\n",
        "# Flatten : 신경망에 데이터를 넣을 때 자동으로 1차원으로 펴주는 함수\n",
        "\n",
        "# 신경망 구조 설계\n",
        "model = Sequential()\n",
        "\n",
        "model.add(Flatten(input_shape = (28, 28)))\n",
        "\n",
        "# 중간층\n",
        "model.add(Dense(500, activation = 'sigmoid')) # 하나의 층\n",
        "model.add(Dense(300, activation = 'sigmoid')) # 하나의 층\n",
        "model.add(Dense(100, activation = 'sigmoid')) # 하나의 층\n",
        "\n",
        "# 출력층\n",
        "# 출력층은 문제의 종류에 따라서 고정됨(2진분류 문제는 출력층 뉴런 개수 1개, 활성화 함수는 sigmoid로 고정)\n",
        "model.add(Dense(10, activation = 'softmax'))\n",
        "\n",
        "model.summary()"
      ],
      "metadata": {
        "colab": {
          "base_uri": "https://localhost:8080/"
        },
        "id": "LjcLsc2fLF74",
        "outputId": "66c5766b-e4e3-47d8-cc63-6177dc330b96"
      },
      "execution_count": null,
      "outputs": [
        {
          "output_type": "stream",
          "name": "stdout",
          "text": [
            "Model: \"sequential\"\n",
            "_________________________________________________________________\n",
            " Layer (type)                Output Shape              Param #   \n",
            "=================================================================\n",
            " flatten (Flatten)           (None, 784)               0         \n",
            "                                                                 \n",
            " dense (Dense)               (None, 500)               392500    \n",
            "                                                                 \n",
            " dense_1 (Dense)             (None, 300)               150300    \n",
            "                                                                 \n",
            " dense_2 (Dense)             (None, 100)               30100     \n",
            "                                                                 \n",
            " dense_3 (Dense)             (None, 10)                1010      \n",
            "                                                                 \n",
            "=================================================================\n",
            "Total params: 573,910\n",
            "Trainable params: 573,910\n",
            "Non-trainable params: 0\n",
            "_________________________________________________________________\n"
          ]
        }
      ]
    },
    {
      "cell_type": "code",
      "source": [
        "# 학습 및 평가방법 설정\n",
        "# binary_crossentropy : 2진분류에 사용하는 손실함수\n",
        "# -> 오차의 평균을 구하는 것은 mse와 같지만 0~1사이값(분류를 편하게 하기 위해)으로 변환 후 평균오차를 구해냄\n",
        "model.compile(loss = 'categorical_crossentropy',\n",
        "              optimizer = 'Adam', # 최적화함수 : 확률적 경사하강법(SGD) 활용, 최적화 알고리즘(Adam) 활용\n",
        "              metrics = ['acc'] # metrics : 평가방법을 설정(분류 문제이므로 정확도 출력 필요)\n",
        "              )"
      ],
      "metadata": {
        "id": "pqRqcC4CLnuw"
      },
      "execution_count": null,
      "outputs": []
    },
    {
      "cell_type": "code",
      "source": [
        "h = model.fit(X_train, y_train_one_hot,\n",
        "              epochs = 30,\n",
        "              batch_size = 128, # 한번에 학습되는 데이터의 개수(디폴트 32개)\n",
        "              verbose = 1 # 학습 결과의 출력 형태 결정(0 : 출력 X, 1 : bar형태(디폴트), 2 : bar없이 출력)\n",
        "              )"
      ],
      "metadata": {
        "id": "2NkkAjB-LsUQ"
      },
      "execution_count": null,
      "outputs": []
    },
    {
      "cell_type": "code",
      "source": [
        "# 시각화\n",
        "plt.figure(figsize = (15, 5))\n",
        "\n",
        "plt.plot(h.history['acc'], label = 'acc')\n",
        "\n",
        "plt.legend()\n",
        "plt.show()"
      ],
      "metadata": {
        "colab": {
          "base_uri": "https://localhost:8080/",
          "height": 445
        },
        "id": "99uv8OAiLvCE",
        "outputId": "6dc492eb-e85b-4bfe-b14b-1ed2f4127d35"
      },
      "execution_count": null,
      "outputs": [
        {
          "output_type": "display_data",
          "data": {
            "text/plain": [
              "<Figure size 1500x500 with 1 Axes>"
            ],
            "image/png": "[encoded data removed]"
          },
          "metadata": {}
        }
      ]
    },
    {
      "cell_type": "code",
      "source": [
        "# 모델 평가\n",
        "model.evaluate(X_test, y_test_one_hot)"
      ],
      "metadata": {
        "colab": {
          "base_uri": "https://localhost:8080/"
        },
        "id": "9UHropPGL2VS",
        "outputId": "a2b5c56b-7337-4e6e-a5e7-cc1c918c0973"
      },
      "execution_count": null,
      "outputs": [
        {
          "output_type": "stream",
          "name": "stdout",
          "text": [
            "313/313 [==============================] - 1s 4ms/step - loss: 0.5492 - acc: 0.7989\n"
          ]
        },
        {
          "output_type": "execute_result",
          "data": {
            "text/plain": [
              "[0.549201488494873, 0.7989000082015991]"
            ]
          },
          "metadata": {},
          "execution_count": 14
        }
      ]
    },
    {
      "cell_type": "markdown",
      "source": [
        "### Validation"
      ],
      "metadata": {
        "id": "LkRdczNgMVv7"
      }
    },
    {
      "cell_type": "code",
      "source": [
        "# 무조건 train, test만 나눠주는게 아니라 데이터를 일정 비율로 랜덤하게 나눠주는 기능을 갖고있음.\n",
        "from sklearn.model_selection import train_test_split\n",
        "\n",
        "X_train, X_validation, y_train_one_hot, y_validation_one_hot = train_test_split(X_train, y_train_one_hot,\n",
        "                                                                                random_state = 33\n",
        "                                                                                )\n",
        "\n",
        "print(X_train.shape)\n",
        "print(X_validation.shape)\n",
        "print(y_train_one_hot.shape)\n",
        "print(y_validation_one_hot.shape)"
      ],
      "metadata": {
        "colab": {
          "base_uri": "https://localhost:8080/"
        },
        "id": "TYPTI-FzMDMl",
        "outputId": "ceea4e2f-4371-40b0-fe9e-36da55751c55"
      },
      "execution_count": null,
      "outputs": [
        {
          "output_type": "stream",
          "name": "stdout",
          "text": [
            "(45000, 28, 28)\n",
            "(15000, 28, 28)\n",
            "(45000, 10)\n",
            "(15000, 10)\n"
          ]
        }
      ]
    },
    {
      "cell_type": "code",
      "source": [
        "# 신경망 구조 설계\n",
        "model1 = Sequential()\n",
        "\n",
        "model1.add(Flatten(input_shape = (28, 28)))\n",
        "\n",
        "# 중간층\n",
        "model1.add(Dense(500, activation = 'sigmoid')) # 하나의 층\n",
        "model1.add(Dense(300, activation = 'sigmoid')) # 하나의 층\n",
        "model1.add(Dense(100, activation = 'sigmoid')) # 하나의 층\n",
        "\n",
        "# 출력층\n",
        "# 출력층은 문제의 종류에 따라서 고정됨(2진분류 문제는 출력층 뉴런 개수 1개, 활성화 함수는 sigmoid로 고정)\n",
        "model1.add(Dense(10, activation = 'softmax'))\n",
        "\n",
        "model1.summary()\n",
        "\n",
        "model1.compile(loss = 'categorical_crossentropy',\n",
        "              optimizer = 'Adam', # 최적화함수 : 확률적 경사하강법(SGD) 활용, 최적화 알고리즘(Adam) 활용\n",
        "              metrics = ['acc'] # metrics : 평가방법을 설정(분류 문제이므로 정확도 출력 필요)\n",
        "              )"
      ],
      "metadata": {
        "colab": {
          "base_uri": "https://localhost:8080/"
        },
        "id": "3C1rmr8-Mc28",
        "outputId": "dca213a6-15dd-470b-f89d-ec42255f5eef"
      },
      "execution_count": null,
      "outputs": [
        {
          "output_type": "stream",
          "name": "stdout",
          "text": [
            "Model: \"sequential_1\"\n",
            "_________________________________________________________________\n",
            " Layer (type)                Output Shape              Param #   \n",
            "=================================================================\n",
            " flatten_1 (Flatten)         (None, 784)               0         \n",
            "                                                                 \n",
            " dense_4 (Dense)             (None, 500)               392500    \n",
            "                                                                 \n",
            " dense_5 (Dense)             (None, 300)               150300    \n",
            "                                                                 \n",
            " dense_6 (Dense)             (None, 100)               30100     \n",
            "                                                                 \n",
            " dense_7 (Dense)             (None, 10)                1010      \n",
            "                                                                 \n",
            "=================================================================\n",
            "Total params: 573,910\n",
            "Trainable params: 573,910\n",
            "Non-trainable params: 0\n",
            "_________________________________________________________________\n"
          ]
        }
      ]
    },
    {
      "cell_type": "code",
      "source": [
        "h1 = model1.fit(X_train, y_train_one_hot,\n",
        "                batch_size = 128,\n",
        "                epochs = 30,\n",
        "                validation_data = (X_validation, y_validation_one_hot) # 검증용 데이터셋 추가\n",
        "                )"
      ],
      "metadata": {
        "colab": {
          "base_uri": "https://localhost:8080/"
        },
        "id": "z1fRpDz0MgT1",
        "outputId": "fddabd53-1a3a-4f3d-bbf2-f013f8b2da98"
      },
      "execution_count": null,
      "outputs": [
        {
          "output_type": "stream",
          "name": "stdout",
          "text": [
            "Epoch 1/30\n",
            "352/352 [==============================] - 4s 6ms/step - loss: 0.8856 - acc: 0.6989 - val_loss: 0.7053 - val_acc: 0.7125\n",
            "Epoch 2/30\n",
            "352/352 [==============================] - 3s 8ms/step - loss: 0.6990 - acc: 0.7338 - val_loss: 0.7101 - val_acc: 0.7329\n",
            "Epoch 3/30\n",
            "352/352 [==============================] - 2s 5ms/step - loss: 0.6817 - acc: 0.7352 - val_loss: 0.7022 - val_acc: 0.7112\n",
            "Epoch 4/30\n",
            "352/352 [==============================] - 2s 5ms/step - loss: 0.6563 - acc: 0.7425 - val_loss: 0.6859 - val_acc: 0.7320\n",
            "Epoch 5/30\n",
            "352/352 [==============================] - 2s 5ms/step - loss: 0.6502 - acc: 0.7450 - val_loss: 0.6400 - val_acc: 0.7464\n",
            "Epoch 6/30\n",
            "352/352 [==============================] - 2s 6ms/step - loss: 0.6312 - acc: 0.7553 - val_loss: 0.6542 - val_acc: 0.7579\n",
            "Epoch 7/30\n",
            "352/352 [==============================] - 3s 9ms/step - loss: 0.6375 - acc: 0.7535 - val_loss: 0.6597 - val_acc: 0.7526\n",
            "Epoch 8/30\n",
            "352/352 [==============================] - 4s 11ms/step - loss: 0.6132 - acc: 0.7635 - val_loss: 0.6136 - val_acc: 0.7605\n",
            "Epoch 9/30\n",
            "352/352 [==============================] - 3s 9ms/step - loss: 0.6166 - acc: 0.7634 - val_loss: 0.6466 - val_acc: 0.7487\n",
            "Epoch 10/30\n",
            "352/352 [==============================] - 3s 9ms/step - loss: 0.6222 - acc: 0.7594 - val_loss: 0.6164 - val_acc: 0.7574\n",
            "Epoch 11/30\n",
            "352/352 [==============================] - 2s 7ms/step - loss: 0.5934 - acc: 0.7716 - val_loss: 0.6174 - val_acc: 0.7609\n",
            "Epoch 12/30\n",
            "352/352 [==============================] - 2s 5ms/step - loss: 0.5892 - acc: 0.7698 - val_loss: 0.5802 - val_acc: 0.7831\n",
            "Epoch 13/30\n",
            "352/352 [==============================] - 3s 7ms/step - loss: 0.5801 - acc: 0.7815 - val_loss: 0.6192 - val_acc: 0.7693\n",
            "Epoch 14/30\n",
            "352/352 [==============================] - 2s 6ms/step - loss: 0.5829 - acc: 0.7753 - val_loss: 0.5856 - val_acc: 0.7707\n",
            "Epoch 15/30\n",
            "352/352 [==============================] - 2s 5ms/step - loss: 0.5663 - acc: 0.7853 - val_loss: 0.6041 - val_acc: 0.7683\n",
            "Epoch 16/30\n",
            "352/352 [==============================] - 2s 5ms/step - loss: 0.5929 - acc: 0.7755 - val_loss: 0.6019 - val_acc: 0.7632\n",
            "Epoch 17/30\n",
            "352/352 [==============================] - 2s 5ms/step - loss: 0.6070 - acc: 0.7664 - val_loss: 0.6182 - val_acc: 0.7677\n",
            "Epoch 18/30\n",
            "352/352 [==============================] - 2s 5ms/step - loss: 0.5936 - acc: 0.7737 - val_loss: 0.6086 - val_acc: 0.7793\n",
            "Epoch 19/30\n",
            "352/352 [==============================] - 2s 5ms/step - loss: 0.5824 - acc: 0.7799 - val_loss: 0.5816 - val_acc: 0.7807\n",
            "Epoch 20/30\n",
            "352/352 [==============================] - 2s 5ms/step - loss: 0.5828 - acc: 0.7764 - val_loss: 0.5858 - val_acc: 0.7813\n",
            "Epoch 21/30\n",
            "352/352 [==============================] - 3s 7ms/step - loss: 0.5706 - acc: 0.7842 - val_loss: 0.5813 - val_acc: 0.7724\n",
            "Epoch 22/30\n",
            "352/352 [==============================] - 2s 5ms/step - loss: 0.5742 - acc: 0.7830 - val_loss: 0.5792 - val_acc: 0.7806\n",
            "Epoch 23/30\n",
            "352/352 [==============================] - 2s 5ms/step - loss: 0.5897 - acc: 0.7781 - val_loss: 0.5836 - val_acc: 0.7742\n",
            "Epoch 24/30\n",
            "352/352 [==============================] - 2s 5ms/step - loss: 0.5743 - acc: 0.7785 - val_loss: 0.5971 - val_acc: 0.7732\n",
            "Epoch 25/30\n",
            "352/352 [==============================] - 2s 4ms/step - loss: 0.5799 - acc: 0.7794 - val_loss: 0.5799 - val_acc: 0.7859\n",
            "Epoch 26/30\n",
            "352/352 [==============================] - 2s 5ms/step - loss: 0.5606 - acc: 0.7846 - val_loss: 0.5995 - val_acc: 0.7737\n",
            "Epoch 27/30\n",
            "352/352 [==============================] - 2s 5ms/step - loss: 0.5610 - acc: 0.7897 - val_loss: 0.5538 - val_acc: 0.7950\n",
            "Epoch 28/30\n",
            "352/352 [==============================] - 2s 6ms/step - loss: 0.5379 - acc: 0.7961 - val_loss: 0.5553 - val_acc: 0.7888\n",
            "Epoch 29/30\n",
            "352/352 [==============================] - 2s 7ms/step - loss: 0.5454 - acc: 0.7931 - val_loss: 0.5774 - val_acc: 0.7796\n",
            "Epoch 30/30\n",
            "352/352 [==============================] - 2s 5ms/step - loss: 0.5401 - acc: 0.7928 - val_loss: 0.5516 - val_acc: 0.7891\n"
          ]
        }
      ]
    },
    {
      "cell_type": "code",
      "source": [
        "# 시각화\n",
        "plt.figure(figsize = (15, 5))\n",
        "# train 데이터\n",
        "plt.plot(h1.history['acc'], label = 'acc')\n",
        "# validation 데이터\n",
        "plt.plot(h1.history['val_acc'], label = 'val_acc')\n",
        "\n",
        "plt.legend()\n",
        "plt.show()"
      ],
      "metadata": {
        "colab": {
          "base_uri": "https://localhost:8080/",
          "height": 447
        },
        "id": "tQgP-vjGMjUL",
        "outputId": "a5c85ee5-725c-4e62-a046-a72b84611daa"
      },
      "execution_count": null,
      "outputs": [
        {
          "output_type": "display_data",
          "data": {
            "text/plain": [
              "<Figure size 1500x500 with 1 Axes>"
            ],
            "image/png": "[encoded data removed]"
          },
          "metadata": {}
        }
      ]
    },
    {
      "cell_type": "code",
      "source": [
        "model1.evaluate(X_test, y_test_one_hot)"
      ],
      "metadata": {
        "colab": {
          "base_uri": "https://localhost:8080/"
        },
        "id": "qvQ-jeHIMoGS",
        "outputId": "e8be175b-b101-4f54-827f-319387751597"
      },
      "execution_count": null,
      "outputs": [
        {
          "output_type": "stream",
          "name": "stdout",
          "text": [
            "313/313 [==============================] - 1s 3ms/step - loss: 0.5676 - acc: 0.7838\n"
          ]
        },
        {
          "output_type": "execute_result",
          "data": {
            "text/plain": [
              "[0.5675699710845947, 0.7838000059127808]"
            ]
          },
          "metadata": {},
          "execution_count": 19
        }
      ]
    },
    {
      "cell_type": "markdown",
      "source": [
        "### 앞선 손글씨 이미지 데이터와 동일한 형태의 데이터를 동일한 구조로 학습시켰지만 정확도가 차이나는 이유는 패션 이미지 데이터의 복잡도가 더 높았기 때문이다 !"
      ],
      "metadata": {
        "id": "UOyYsKwUSY2l"
      }
    },
    {
      "cell_type": "code",
      "source": [],
      "metadata": {
        "id": "RpXROLhGM5yM"
      },
      "execution_count": null,
      "outputs": []
    }
  ]
}