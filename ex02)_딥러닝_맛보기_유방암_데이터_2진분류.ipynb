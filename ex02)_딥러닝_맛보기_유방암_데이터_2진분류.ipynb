{
  "nbformat": 4,
  "nbformat_minor": 0,
  "metadata": {
    "colab": {
      "provenance": [],
      "mount_file_id": "11WTJuB2EFhlxrNdrhSYxv8foaohVaHlA",
      "authorship_tag": "ABX9TyPbZ7e0VK/0y9S6Dji91mxU",
      "include_colab_link": true
    },
    "kernelspec": {
      "name": "python3",
      "display_name": "Python 3"
    },
    "language_info": {
      "name": "python"
    }
  },
  "cells": [
    {
      "cell_type": "markdown",
      "metadata": {
        "id": "view-in-github",
        "colab_type": "text"
      },
      "source": [
        "<a href=\"https://colab.research.google.com/github/mongmongmingming/DongStudy/blob/main/ex02)_%EB%94%A5%EB%9F%AC%EB%8B%9D_%EB%A7%9B%EB%B3%B4%EA%B8%B0_%EC%9C%A0%EB%B0%A9%EC%95%94_%EB%8D%B0%EC%9D%B4%ED%84%B0_2%EC%A7%84%EB%B6%84%EB%A5%98.ipynb\" target=\"_parent\"><img src=\"https://colab.research.google.com/assets/colab-badge.svg\" alt=\"Open In Colab\"/></a>"
      ]
    },
    {
      "cell_type": "markdown",
      "source": [
        "### 목표\n",
        "- 환자의 데이터를 바탕으로 해당 환자가 유방암인지 아닌지를 구분하는 신경망 모델을 만들어보자 !"
      ],
      "metadata": {
        "id": "J6y_s_DhJSwP"
      }
    },
    {
      "cell_type": "code",
      "source": [
        "import numpy as np\n",
        "import pandas as pd\n",
        "import matplotlib.pyplot as plt\n",
        "# sklearn에서 지원해주는 학습용 유방암 데이터셋 임포트\n",
        "from sklearn.datasets import load_breast_cancer"
      ],
      "metadata": {
        "id": "fzth7_v3Ghr-"
      },
      "execution_count": null,
      "outputs": []
    },
    {
      "cell_type": "code",
      "source": [
        "data = load_breast_cancer()\n",
        "data"
      ],
      "metadata": {
        "colab": {
          "base_uri": "https://localhost:8080/"
        },
        "id": "oWTXhGnL8Ghc",
        "outputId": "37c45b47-0962-4363-bbce-975199b722f6"
      },
      "execution_count": null,
      "outputs": [
        {
          "output_type": "execute_result",
          "data": {
            "text/plain": [
              "{'data': array([[1.799e+01, 1.038e+01, 1.228e+02, ..., 2.654e-01, 4.601e-01,\n",
              "         1.189e-01],\n",
              "        [2.057e+01, 1.777e+01, 1.329e+02, ..., 1.860e-01, 2.750e-01,\n",
              "         8.902e-02],\n",
              "        [1.969e+01, 2.125e+01, 1.300e+02, ..., 2.430e-01, 3.613e-01,\n",
              "         8.758e-02],\n",
              "        ...,\n",
              "        [1.660e+01, 2.808e+01, 1.083e+02, ..., 1.418e-01, 2.218e-01,\n",
              "         7.820e-02],\n",
              "        [2.060e+01, 2.933e+01, 1.401e+02, ..., 2.650e-01, 4.087e-01,\n",
              "         1.240e-01],\n",
              "        [7.760e+00, 2.454e+01, 4.792e+01, ..., 0.000e+00, 2.871e-01,\n",
              "         7.039e-02]]),\n",
              " 'target': array([0, 0, 0, 0, 0, 0, 0, 0, 0, 0, 0, 0, 0, 0, 0, 0, 0, 0, 0, 1, 1, 1,\n",
              "        0, 0, 0, 0, 0, 0, 0, 0, 0, 0, 0, 0, 0, 0, 0, 1, 0, 0, 0, 0, 0, 0,\n",
              "        0, 0, 1, 0, 1, 1, 1, 1, 1, 0, 0, 1, 0, 0, 1, 1, 1, 1, 0, 1, 0, 0,\n",
              "        1, 1, 1, 1, 0, 1, 0, 0, 1, 0, 1, 0, 0, 1, 1, 1, 0, 0, 1, 0, 0, 0,\n",
              "        1, 1, 1, 0, 1, 1, 0, 0, 1, 1, 1, 0, 0, 1, 1, 1, 1, 0, 1, 1, 0, 1,\n",
              "        1, 1, 1, 1, 1, 1, 1, 0, 0, 0, 1, 0, 0, 1, 1, 1, 0, 0, 1, 0, 1, 0,\n",
              "        0, 1, 0, 0, 1, 1, 0, 1, 1, 0, 1, 1, 1, 1, 0, 1, 1, 1, 1, 1, 1, 1,\n",
              "        1, 1, 0, 1, 1, 1, 1, 0, 0, 1, 0, 1, 1, 0, 0, 1, 1, 0, 0, 1, 1, 1,\n",
              "        1, 0, 1, 1, 0, 0, 0, 1, 0, 1, 0, 1, 1, 1, 0, 1, 1, 0, 0, 1, 0, 0,\n",
              "        0, 0, 1, 0, 0, 0, 1, 0, 1, 0, 1, 1, 0, 1, 0, 0, 0, 0, 1, 1, 0, 0,\n",
              "        1, 1, 1, 0, 1, 1, 1, 1, 1, 0, 0, 1, 1, 0, 1, 1, 0, 0, 1, 0, 1, 1,\n",
              "        1, 1, 0, 1, 1, 1, 1, 1, 0, 1, 0, 0, 0, 0, 0, 0, 0, 0, 0, 0, 0, 0,\n",
              "        0, 0, 1, 1, 1, 1, 1, 1, 0, 1, 0, 1, 1, 0, 1, 1, 0, 1, 0, 0, 1, 1,\n",
              "        1, 1, 1, 1, 1, 1, 1, 1, 1, 1, 1, 0, 1, 1, 0, 1, 0, 1, 1, 1, 1, 1,\n",
              "        1, 1, 1, 1, 1, 1, 1, 1, 1, 0, 1, 1, 1, 0, 1, 0, 1, 1, 1, 1, 0, 0,\n",
              "        0, 1, 1, 1, 1, 0, 1, 0, 1, 0, 1, 1, 1, 0, 1, 1, 1, 1, 1, 1, 1, 0,\n",
              "        0, 0, 1, 1, 1, 1, 1, 1, 1, 1, 1, 1, 1, 0, 0, 1, 0, 0, 0, 1, 0, 0,\n",
              "        1, 1, 1, 1, 1, 0, 1, 1, 1, 1, 1, 0, 1, 1, 1, 0, 1, 1, 0, 0, 1, 1,\n",
              "        1, 1, 1, 1, 0, 1, 1, 1, 1, 1, 1, 1, 0, 1, 1, 1, 1, 1, 0, 1, 1, 0,\n",
              "        1, 1, 1, 1, 1, 1, 1, 1, 1, 1, 1, 1, 0, 1, 0, 0, 1, 0, 1, 1, 1, 1,\n",
              "        1, 0, 1, 1, 0, 1, 0, 1, 1, 0, 1, 0, 1, 1, 1, 1, 1, 1, 1, 1, 0, 0,\n",
              "        1, 1, 1, 1, 1, 1, 0, 1, 1, 1, 1, 1, 1, 1, 1, 1, 1, 0, 1, 1, 1, 1,\n",
              "        1, 1, 1, 0, 1, 0, 1, 1, 0, 1, 1, 1, 1, 1, 0, 0, 1, 0, 1, 0, 1, 1,\n",
              "        1, 1, 1, 0, 1, 1, 0, 1, 0, 1, 0, 0, 1, 1, 1, 0, 1, 1, 1, 1, 1, 1,\n",
              "        1, 1, 1, 1, 1, 0, 1, 0, 0, 1, 1, 1, 1, 1, 1, 1, 1, 1, 1, 1, 1, 1,\n",
              "        1, 1, 1, 1, 1, 1, 1, 1, 1, 1, 1, 1, 0, 0, 0, 0, 0, 0, 1]),\n",
              " 'frame': None,\n",
              " 'target_names': array(['malignant', 'benign'], dtype='<U9'),\n",
              " 'DESCR': '.. _breast_cancer_dataset:\\n\\nBreast cancer wisconsin (diagnostic) dataset\\n--------------------------------------------\\n\\n**Data Set Characteristics:**\\n\\n    :Number of Instances: 569\\n\\n    :Number of Attributes: 30 numeric, predictive attributes and the class\\n\\n    :Attribute Information:\\n        - radius (mean of distances from center to points on the perimeter)\\n        - texture (standard deviation of gray-scale values)\\n        - perimeter\\n        - area\\n        - smoothness (local variation in radius lengths)\\n        - compactness (perimeter^2 / area - 1.0)\\n        - concavity (severity of concave portions of the contour)\\n        - concave points (number of concave portions of the contour)\\n        - symmetry\\n        - fractal dimension (\"coastline approximation\" - 1)\\n\\n        The mean, standard error, and \"worst\" or largest (mean of the three\\n        worst/largest values) of these features were computed for each image,\\n        resulting in 30 features.  For instance, field 0 is Mean Radius, field\\n        10 is Radius SE, field 20 is Worst Radius.\\n\\n        - class:\\n                - WDBC-Malignant\\n                - WDBC-Benign\\n\\n    :Summary Statistics:\\n\\n    ===================================== ====== ======\\n                                           Min    Max\\n    ===================================== ====== ======\\n    radius (mean):                        6.981  28.11\\n    texture (mean):                       9.71   39.28\\n    perimeter (mean):                     43.79  188.5\\n    area (mean):                          143.5  2501.0\\n    smoothness (mean):                    0.053  0.163\\n    compactness (mean):                   0.019  0.345\\n    concavity (mean):                     0.0    0.427\\n    concave points (mean):                0.0    0.201\\n    symmetry (mean):                      0.106  0.304\\n    fractal dimension (mean):             0.05   0.097\\n    radius (standard error):              0.112  2.873\\n    texture (standard error):             0.36   4.885\\n    perimeter (standard error):           0.757  21.98\\n    area (standard error):                6.802  542.2\\n    smoothness (standard error):          0.002  0.031\\n    compactness (standard error):         0.002  0.135\\n    concavity (standard error):           0.0    0.396\\n    concave points (standard error):      0.0    0.053\\n    symmetry (standard error):            0.008  0.079\\n    fractal dimension (standard error):   0.001  0.03\\n    radius (worst):                       7.93   36.04\\n    texture (worst):                      12.02  49.54\\n    perimeter (worst):                    50.41  251.2\\n    area (worst):                         185.2  4254.0\\n    smoothness (worst):                   0.071  0.223\\n    compactness (worst):                  0.027  1.058\\n    concavity (worst):                    0.0    1.252\\n    concave points (worst):               0.0    0.291\\n    symmetry (worst):                     0.156  0.664\\n    fractal dimension (worst):            0.055  0.208\\n    ===================================== ====== ======\\n\\n    :Missing Attribute Values: None\\n\\n    :Class Distribution: 212 - Malignant, 357 - Benign\\n\\n    :Creator:  Dr. William H. Wolberg, W. Nick Street, Olvi L. Mangasarian\\n\\n    :Donor: Nick Street\\n\\n    :Date: November, 1995\\n\\nThis is a copy of UCI ML Breast Cancer Wisconsin (Diagnostic) datasets.\\nhttps://goo.gl/U2Uwz2\\n\\nFeatures are computed from a digitized image of a fine needle\\naspirate (FNA) of a breast mass.  They describe\\ncharacteristics of the cell nuclei present in the image.\\n\\nSeparating plane described above was obtained using\\nMultisurface Method-Tree (MSM-T) [K. P. Bennett, \"Decision Tree\\nConstruction Via Linear Programming.\" Proceedings of the 4th\\nMidwest Artificial Intelligence and Cognitive Science Society,\\npp. 97-101, 1992], a classification method which uses linear\\nprogramming to construct a decision tree.  Relevant features\\nwere selected using an exhaustive search in the space of 1-4\\nfeatures and 1-3 separating planes.\\n\\nThe actual linear program used to obtain the separating plane\\nin the 3-dimensional space is that described in:\\n[K. P. Bennett and O. L. Mangasarian: \"Robust Linear\\nProgramming Discrimination of Two Linearly Inseparable Sets\",\\nOptimization Methods and Software 1, 1992, 23-34].\\n\\nThis database is also available through the UW CS ftp server:\\n\\nftp ftp.cs.wisc.edu\\ncd math-prog/cpo-dataset/machine-learn/WDBC/\\n\\n.. topic:: References\\n\\n   - W.N. Street, W.H. Wolberg and O.L. Mangasarian. Nuclear feature extraction \\n     for breast tumor diagnosis. IS&T/SPIE 1993 International Symposium on \\n     Electronic Imaging: Science and Technology, volume 1905, pages 861-870,\\n     San Jose, CA, 1993.\\n   - O.L. Mangasarian, W.N. Street and W.H. Wolberg. Breast cancer diagnosis and \\n     prognosis via linear programming. Operations Research, 43(4), pages 570-577, \\n     July-August 1995.\\n   - W.H. Wolberg, W.N. Street, and O.L. Mangasarian. Machine learning techniques\\n     to diagnose breast cancer from fine-needle aspirates. Cancer Letters 77 (1994) \\n     163-171.',\n",
              " 'feature_names': array(['mean radius', 'mean texture', 'mean perimeter', 'mean area',\n",
              "        'mean smoothness', 'mean compactness', 'mean concavity',\n",
              "        'mean concave points', 'mean symmetry', 'mean fractal dimension',\n",
              "        'radius error', 'texture error', 'perimeter error', 'area error',\n",
              "        'smoothness error', 'compactness error', 'concavity error',\n",
              "        'concave points error', 'symmetry error',\n",
              "        'fractal dimension error', 'worst radius', 'worst texture',\n",
              "        'worst perimeter', 'worst area', 'worst smoothness',\n",
              "        'worst compactness', 'worst concavity', 'worst concave points',\n",
              "        'worst symmetry', 'worst fractal dimension'], dtype='<U23'),\n",
              " 'filename': 'breast_cancer.csv',\n",
              " 'data_module': 'sklearn.datasets.data'}"
            ]
          },
          "metadata": {},
          "execution_count": 2
        }
      ]
    },
    {
      "cell_type": "code",
      "source": [
        "data.keys()"
      ],
      "metadata": {
        "colab": {
          "base_uri": "https://localhost:8080/"
        },
        "id": "yXr_b3x99Nsk",
        "outputId": "42ae01d6-b799-4af8-f71d-53150623c827"
      },
      "execution_count": null,
      "outputs": [
        {
          "output_type": "execute_result",
          "data": {
            "text/plain": [
              "dict_keys(['data', 'target', 'frame', 'target_names', 'DESCR', 'feature_names', 'filename', 'data_module'])"
            ]
          },
          "metadata": {},
          "execution_count": 3
        }
      ]
    },
    {
      "cell_type": "code",
      "source": [
        "# 문제\n",
        "X = data['data']\n",
        "# 정답\n",
        "y = data['target']"
      ],
      "metadata": {
        "id": "rrNLtCBt9AyZ"
      },
      "execution_count": null,
      "outputs": []
    },
    {
      "cell_type": "code",
      "source": [
        "X.shape, y.shape"
      ],
      "metadata": {
        "colab": {
          "base_uri": "https://localhost:8080/"
        },
        "id": "lxkS7DuF9f5E",
        "outputId": "6c831dbe-0223-40bb-b54c-95fa44d1271c"
      },
      "execution_count": null,
      "outputs": [
        {
          "output_type": "execute_result",
          "data": {
            "text/plain": [
              "((569, 30), (569,))"
            ]
          },
          "metadata": {},
          "execution_count": 5
        }
      ]
    },
    {
      "cell_type": "code",
      "source": [
        "from sklearn.model_selection import train_test_split\n",
        "\n",
        "X_train, X_test, y_train, y_test = train_test_split(X, y, random_state = 100)"
      ],
      "metadata": {
        "id": "3m90CiVr9hSm"
      },
      "execution_count": null,
      "outputs": []
    },
    {
      "cell_type": "code",
      "source": [
        "print(X_train.shape)\n",
        "print(X_test.shape)\n",
        "print(y_train.shape)\n",
        "print(y_test.shape)"
      ],
      "metadata": {
        "colab": {
          "base_uri": "https://localhost:8080/"
        },
        "id": "C5tb4Pie95T_",
        "outputId": "717ad25d-6c8f-408f-b4c2-4ffa86becf18"
      },
      "execution_count": null,
      "outputs": [
        {
          "output_type": "stream",
          "name": "stdout",
          "text": [
            "(426, 30)\n",
            "(143, 30)\n",
            "(426,)\n",
            "(143,)\n"
          ]
        }
      ]
    },
    {
      "cell_type": "markdown",
      "source": [
        "### 인공신경망 모델링\n",
        "- 1. 신경망 구조 설계\n",
        "- 2. 학습 및 평가방법 설정\n",
        "- 3. 학습 및 시각화\n",
        "- 4. 모델평가"
      ],
      "metadata": {
        "id": "GUhC9dei-KvN"
      }
    },
    {
      "cell_type": "code",
      "source": [
        "from tensorflow.keras import Sequential\n",
        "from tensorflow.keras.layers import Dense"
      ],
      "metadata": {
        "id": "TsiBiyZOCse-"
      },
      "execution_count": null,
      "outputs": []
    },
    {
      "cell_type": "code",
      "source": [
        "# 1. 신경망 구조 설계\n",
        "model = Sequential()\n",
        "\n",
        "# 입력층(input_dim) + 중간층 1개(Dense)\n",
        "# activation : 활성화 함수(들어온 자극(데이터)에 대한 응답 여부를 설정하는 함수)\n",
        "model.add(Dense(16, input_dim = 30, activation = 'sigmoid'))\n",
        "\n",
        "# 중간층\n",
        "model.add(Dense(8, activation = 'sigmoid')) # 하나의 층\n",
        "model.add(Dense(4, activation = 'sigmoid')) # 하나의 층\n",
        "\n",
        "# 출력층\n",
        "# 출력층은 문제의 종류에 따라서 고정됨(2진분류 문제는 출력층 뉴런 개수 1개, 활성화 함수는 sigmoid로 고정)\n",
        "model.add(Dense(1, activation = 'sigmoid'))\n",
        "\n",
        "model.summary()"
      ],
      "metadata": {
        "colab": {
          "base_uri": "https://localhost:8080/"
        },
        "id": "bFWqBsox9-FI",
        "outputId": "df33583c-e5e8-4ebe-e15d-539547427042"
      },
      "execution_count": null,
      "outputs": [
        {
          "output_type": "stream",
          "name": "stdout",
          "text": [
            "Model: \"sequential_2\"\n",
            "_________________________________________________________________\n",
            " Layer (type)                Output Shape              Param #   \n",
            "=================================================================\n",
            " dense_8 (Dense)             (None, 16)                496       \n",
            "                                                                 \n",
            " dense_9 (Dense)             (None, 8)                 136       \n",
            "                                                                 \n",
            " dense_10 (Dense)            (None, 4)                 36        \n",
            "                                                                 \n",
            " dense_11 (Dense)            (None, 1)                 5         \n",
            "                                                                 \n",
            "=================================================================\n",
            "Total params: 673\n",
            "Trainable params: 673\n",
            "Non-trainable params: 0\n",
            "_________________________________________________________________\n"
          ]
        }
      ]
    },
    {
      "cell_type": "code",
      "source": [
        "# 2. 학습 및 평가방법 설정\n",
        "# binary_crossentropy : 2진분류에 사용하는 손실함수\n",
        "# -> 오차의 평균을 구하는 것은 mse와 같지만 0~1사이값(분류를 편하게 하기 위해)으로 변환 후 평균오차를 구해냄\n",
        "model.compile(loss = 'binary_crossentropy',\n",
        "              optimizer = 'Adam', # 최적화함수 : 확률적 경사하강법(SGD) 활용, 최적화 알고리즘(Adam) 활용\n",
        "              metrics = ['acc'] # metrics : 평가방법을 설정(분류 문제이므로 정확도 출력 필요)\n",
        "              )"
      ],
      "metadata": {
        "id": "CNz_B6dwCpNc"
      },
      "execution_count": null,
      "outputs": []
    },
    {
      "cell_type": "code",
      "source": [
        "h = model.fit(X_train, y_train,\n",
        "              epochs = 200\n",
        "              )"
      ],
      "metadata": {
        "colab": {
          "base_uri": "https://localhost:8080/"
        },
        "id": "fen5GHucCwLb",
        "outputId": "3d53b0c2-ae8b-4f82-eed4-9e0d6c7a848c"
      },
      "execution_count": null,
      "outputs": [
        {
          "output_type": "stream",
          "name": "stdout",
          "text": [
            "Epoch 1/200\n",
            "14/14 [==============================] - 0s 4ms/step - loss: 0.3163 - acc: 0.8944\n",
            "Epoch 2/200\n",
            "14/14 [==============================] - 0s 5ms/step - loss: 0.3148 - acc: 0.8967\n",
            "Epoch 3/200\n",
            "14/14 [==============================] - 0s 3ms/step - loss: 0.3200 - acc: 0.8897\n",
            "Epoch 4/200\n",
            "14/14 [==============================] - 0s 4ms/step - loss: 0.3150 - acc: 0.9038\n",
            "Epoch 5/200\n",
            "14/14 [==============================] - 0s 3ms/step - loss: 0.3125 - acc: 0.9014\n",
            "Epoch 6/200\n",
            "14/14 [==============================] - 0s 4ms/step - loss: 0.3119 - acc: 0.9061\n",
            "Epoch 7/200\n",
            "14/14 [==============================] - 0s 4ms/step - loss: 0.3133 - acc: 0.9061\n",
            "Epoch 8/200\n",
            "14/14 [==============================] - 0s 2ms/step - loss: 0.3105 - acc: 0.9038\n",
            "Epoch 9/200\n",
            "14/14 [==============================] - 0s 3ms/step - loss: 0.3111 - acc: 0.8991\n",
            "Epoch 10/200\n",
            "14/14 [==============================] - 0s 2ms/step - loss: 0.3099 - acc: 0.9061\n",
            "Epoch 11/200\n",
            "14/14 [==============================] - 0s 2ms/step - loss: 0.3184 - acc: 0.8897\n",
            "Epoch 12/200\n",
            "14/14 [==============================] - 0s 3ms/step - loss: 0.3024 - acc: 0.9061\n",
            "Epoch 13/200\n",
            "14/14 [==============================] - 0s 2ms/step - loss: 0.3033 - acc: 0.9038\n",
            "Epoch 14/200\n",
            "14/14 [==============================] - 0s 2ms/step - loss: 0.2999 - acc: 0.9014\n",
            "Epoch 15/200\n",
            "14/14 [==============================] - 0s 3ms/step - loss: 0.3029 - acc: 0.9108\n",
            "Epoch 16/200\n",
            "14/14 [==============================] - 0s 3ms/step - loss: 0.3040 - acc: 0.9061\n",
            "Epoch 17/200\n",
            "14/14 [==============================] - 0s 3ms/step - loss: 0.2923 - acc: 0.9014\n",
            "Epoch 18/200\n",
            "14/14 [==============================] - 0s 3ms/step - loss: 0.3053 - acc: 0.8850\n",
            "Epoch 19/200\n",
            "14/14 [==============================] - 0s 3ms/step - loss: 0.2976 - acc: 0.8920\n",
            "Epoch 20/200\n",
            "14/14 [==============================] - 0s 2ms/step - loss: 0.2947 - acc: 0.9061\n",
            "Epoch 21/200\n",
            "14/14 [==============================] - 0s 2ms/step - loss: 0.2949 - acc: 0.9085\n",
            "Epoch 22/200\n",
            "14/14 [==============================] - 0s 2ms/step - loss: 0.2954 - acc: 0.9061\n",
            "Epoch 23/200\n",
            "14/14 [==============================] - 0s 2ms/step - loss: 0.2969 - acc: 0.9061\n",
            "Epoch 24/200\n",
            "14/14 [==============================] - 0s 2ms/step - loss: 0.2927 - acc: 0.9014\n",
            "Epoch 25/200\n",
            "14/14 [==============================] - 0s 2ms/step - loss: 0.2861 - acc: 0.9085\n",
            "Epoch 26/200\n",
            "14/14 [==============================] - 0s 3ms/step - loss: 0.2972 - acc: 0.9038\n",
            "Epoch 27/200\n",
            "14/14 [==============================] - 0s 3ms/step - loss: 0.2880 - acc: 0.9038\n",
            "Epoch 28/200\n",
            "14/14 [==============================] - 0s 2ms/step - loss: 0.2973 - acc: 0.8967\n",
            "Epoch 29/200\n",
            "14/14 [==============================] - 0s 2ms/step - loss: 0.2947 - acc: 0.8873\n",
            "Epoch 30/200\n",
            "14/14 [==============================] - 0s 3ms/step - loss: 0.2825 - acc: 0.9061\n",
            "Epoch 31/200\n",
            "14/14 [==============================] - 0s 2ms/step - loss: 0.2854 - acc: 0.9014\n",
            "Epoch 32/200\n",
            "14/14 [==============================] - 0s 2ms/step - loss: 0.2840 - acc: 0.8897\n",
            "Epoch 33/200\n",
            "14/14 [==============================] - 0s 2ms/step - loss: 0.2850 - acc: 0.9038\n",
            "Epoch 34/200\n",
            "14/14 [==============================] - 0s 2ms/step - loss: 0.2838 - acc: 0.8920\n",
            "Epoch 35/200\n",
            "14/14 [==============================] - 0s 2ms/step - loss: 0.2909 - acc: 0.8803\n",
            "Epoch 36/200\n",
            "14/14 [==============================] - 0s 3ms/step - loss: 0.2847 - acc: 0.9038\n",
            "Epoch 37/200\n",
            "14/14 [==============================] - 0s 3ms/step - loss: 0.2927 - acc: 0.9038\n",
            "Epoch 38/200\n",
            "14/14 [==============================] - 0s 3ms/step - loss: 0.2835 - acc: 0.9038\n",
            "Epoch 39/200\n",
            "14/14 [==============================] - 0s 3ms/step - loss: 0.2792 - acc: 0.8991\n",
            "Epoch 40/200\n",
            "14/14 [==============================] - 0s 4ms/step - loss: 0.2886 - acc: 0.9038\n",
            "Epoch 41/200\n",
            "14/14 [==============================] - 0s 2ms/step - loss: 0.2875 - acc: 0.9038\n",
            "Epoch 42/200\n",
            "14/14 [==============================] - 0s 2ms/step - loss: 0.2807 - acc: 0.8897\n",
            "Epoch 43/200\n",
            "14/14 [==============================] - 0s 2ms/step - loss: 0.2842 - acc: 0.9038\n",
            "Epoch 44/200\n",
            "14/14 [==============================] - 0s 2ms/step - loss: 0.2777 - acc: 0.8944\n",
            "Epoch 45/200\n",
            "14/14 [==============================] - 0s 2ms/step - loss: 0.2813 - acc: 0.8967\n",
            "Epoch 46/200\n",
            "14/14 [==============================] - 0s 2ms/step - loss: 0.2852 - acc: 0.8897\n",
            "Epoch 47/200\n",
            "14/14 [==============================] - 0s 2ms/step - loss: 0.2924 - acc: 0.8967\n",
            "Epoch 48/200\n",
            "14/14 [==============================] - 0s 3ms/step - loss: 0.2721 - acc: 0.9061\n",
            "Epoch 49/200\n",
            "14/14 [==============================] - 0s 2ms/step - loss: 0.2908 - acc: 0.8967\n",
            "Epoch 50/200\n",
            "14/14 [==============================] - 0s 3ms/step - loss: 0.2831 - acc: 0.8897\n",
            "Epoch 51/200\n",
            "14/14 [==============================] - 0s 3ms/step - loss: 0.2790 - acc: 0.8991\n",
            "Epoch 52/200\n",
            "14/14 [==============================] - 0s 2ms/step - loss: 0.2762 - acc: 0.8991\n",
            "Epoch 53/200\n",
            "14/14 [==============================] - 0s 2ms/step - loss: 0.2799 - acc: 0.8944\n",
            "Epoch 54/200\n",
            "14/14 [==============================] - 0s 2ms/step - loss: 0.2707 - acc: 0.9014\n",
            "Epoch 55/200\n",
            "14/14 [==============================] - 0s 3ms/step - loss: 0.2759 - acc: 0.8920\n",
            "Epoch 56/200\n",
            "14/14 [==============================] - 0s 2ms/step - loss: 0.2881 - acc: 0.8991\n",
            "Epoch 57/200\n",
            "14/14 [==============================] - 0s 2ms/step - loss: 0.2673 - acc: 0.8991\n",
            "Epoch 58/200\n",
            "14/14 [==============================] - 0s 4ms/step - loss: 0.2770 - acc: 0.8967\n",
            "Epoch 59/200\n",
            "14/14 [==============================] - 0s 4ms/step - loss: 0.2734 - acc: 0.9038\n",
            "Epoch 60/200\n",
            "14/14 [==============================] - 0s 4ms/step - loss: 0.2721 - acc: 0.8991\n",
            "Epoch 61/200\n",
            "14/14 [==============================] - 0s 5ms/step - loss: 0.2657 - acc: 0.9014\n",
            "Epoch 62/200\n",
            "14/14 [==============================] - 0s 4ms/step - loss: 0.2760 - acc: 0.9014\n",
            "Epoch 63/200\n",
            "14/14 [==============================] - 0s 3ms/step - loss: 0.2710 - acc: 0.8991\n",
            "Epoch 64/200\n",
            "14/14 [==============================] - 0s 3ms/step - loss: 0.2721 - acc: 0.8991\n",
            "Epoch 65/200\n",
            "14/14 [==============================] - 0s 4ms/step - loss: 0.2692 - acc: 0.8967\n",
            "Epoch 66/200\n",
            "14/14 [==============================] - 0s 4ms/step - loss: 0.2870 - acc: 0.8967\n",
            "Epoch 67/200\n",
            "14/14 [==============================] - 0s 4ms/step - loss: 0.2776 - acc: 0.8944\n",
            "Epoch 68/200\n",
            "14/14 [==============================] - 0s 4ms/step - loss: 0.2767 - acc: 0.9038\n",
            "Epoch 69/200\n",
            "14/14 [==============================] - 0s 3ms/step - loss: 0.2699 - acc: 0.9014\n",
            "Epoch 70/200\n",
            "14/14 [==============================] - 0s 4ms/step - loss: 0.2605 - acc: 0.8991\n",
            "Epoch 71/200\n",
            "14/14 [==============================] - 0s 4ms/step - loss: 0.2769 - acc: 0.8803\n",
            "Epoch 72/200\n",
            "14/14 [==============================] - 0s 4ms/step - loss: 0.2529 - acc: 0.9014\n",
            "Epoch 73/200\n",
            "14/14 [==============================] - 0s 4ms/step - loss: 0.2666 - acc: 0.8967\n",
            "Epoch 74/200\n",
            "14/14 [==============================] - 0s 3ms/step - loss: 0.2653 - acc: 0.8873\n",
            "Epoch 75/200\n",
            "14/14 [==============================] - 0s 3ms/step - loss: 0.2638 - acc: 0.9014\n",
            "Epoch 76/200\n",
            "14/14 [==============================] - 0s 5ms/step - loss: 0.2624 - acc: 0.9014\n",
            "Epoch 77/200\n",
            "14/14 [==============================] - 0s 4ms/step - loss: 0.2575 - acc: 0.8991\n",
            "Epoch 78/200\n",
            "14/14 [==============================] - 0s 4ms/step - loss: 0.2575 - acc: 0.9038\n",
            "Epoch 79/200\n",
            "14/14 [==============================] - 0s 4ms/step - loss: 0.2608 - acc: 0.8944\n",
            "Epoch 80/200\n",
            "14/14 [==============================] - 0s 3ms/step - loss: 0.2538 - acc: 0.8967\n",
            "Epoch 81/200\n",
            "14/14 [==============================] - 0s 3ms/step - loss: 0.2492 - acc: 0.9038\n",
            "Epoch 82/200\n",
            "14/14 [==============================] - 0s 3ms/step - loss: 0.2605 - acc: 0.9038\n",
            "Epoch 83/200\n",
            "14/14 [==============================] - 0s 3ms/step - loss: 0.2573 - acc: 0.9014\n",
            "Epoch 84/200\n",
            "14/14 [==============================] - 0s 3ms/step - loss: 0.2482 - acc: 0.9014\n",
            "Epoch 85/200\n",
            "14/14 [==============================] - 0s 3ms/step - loss: 0.2589 - acc: 0.9014\n",
            "Epoch 86/200\n",
            "14/14 [==============================] - 0s 3ms/step - loss: 0.2518 - acc: 0.8991\n",
            "Epoch 87/200\n",
            "14/14 [==============================] - 0s 3ms/step - loss: 0.2482 - acc: 0.8991\n",
            "Epoch 88/200\n",
            "14/14 [==============================] - 0s 3ms/step - loss: 0.2527 - acc: 0.9014\n",
            "Epoch 89/200\n",
            "14/14 [==============================] - 0s 4ms/step - loss: 0.2530 - acc: 0.9061\n",
            "Epoch 90/200\n",
            "14/14 [==============================] - 0s 3ms/step - loss: 0.2550 - acc: 0.9014\n",
            "Epoch 91/200\n",
            "14/14 [==============================] - 0s 4ms/step - loss: 0.2528 - acc: 0.9038\n",
            "Epoch 92/200\n",
            "14/14 [==============================] - 0s 4ms/step - loss: 0.2499 - acc: 0.8991\n",
            "Epoch 93/200\n",
            "14/14 [==============================] - 0s 4ms/step - loss: 0.2468 - acc: 0.9038\n",
            "Epoch 94/200\n",
            "14/14 [==============================] - 0s 4ms/step - loss: 0.2477 - acc: 0.9038\n",
            "Epoch 95/200\n",
            "14/14 [==============================] - 0s 4ms/step - loss: 0.2487 - acc: 0.9038\n",
            "Epoch 96/200\n",
            "14/14 [==============================] - 0s 3ms/step - loss: 0.2553 - acc: 0.9014\n",
            "Epoch 97/200\n",
            "14/14 [==============================] - 0s 4ms/step - loss: 0.2789 - acc: 0.9014\n",
            "Epoch 98/200\n",
            "14/14 [==============================] - 0s 4ms/step - loss: 0.2689 - acc: 0.9014\n",
            "Epoch 99/200\n",
            "14/14 [==============================] - 0s 4ms/step - loss: 0.2607 - acc: 0.9038\n",
            "Epoch 100/200\n",
            "14/14 [==============================] - 0s 3ms/step - loss: 0.2583 - acc: 0.9038\n",
            "Epoch 101/200\n",
            "14/14 [==============================] - 0s 4ms/step - loss: 0.2594 - acc: 0.9014\n",
            "Epoch 102/200\n",
            "14/14 [==============================] - 0s 6ms/step - loss: 0.2558 - acc: 0.9061\n",
            "Epoch 103/200\n",
            "14/14 [==============================] - 0s 9ms/step - loss: 0.2696 - acc: 0.8991\n",
            "Epoch 104/200\n",
            "14/14 [==============================] - 0s 10ms/step - loss: 0.2642 - acc: 0.9014\n",
            "Epoch 105/200\n",
            "14/14 [==============================] - 0s 6ms/step - loss: 0.2655 - acc: 0.8991\n",
            "Epoch 106/200\n",
            "14/14 [==============================] - 0s 10ms/step - loss: 0.2423 - acc: 0.9038\n",
            "Epoch 107/200\n",
            "14/14 [==============================] - 0s 6ms/step - loss: 0.2381 - acc: 0.9061\n",
            "Epoch 108/200\n",
            "14/14 [==============================] - 0s 8ms/step - loss: 0.2536 - acc: 0.9014\n",
            "Epoch 109/200\n",
            "14/14 [==============================] - 0s 6ms/step - loss: 0.2593 - acc: 0.8826\n",
            "Epoch 110/200\n",
            "14/14 [==============================] - 0s 7ms/step - loss: 0.2712 - acc: 0.8685\n",
            "Epoch 111/200\n",
            "14/14 [==============================] - 0s 6ms/step - loss: 0.2603 - acc: 0.9014\n",
            "Epoch 112/200\n",
            "14/14 [==============================] - 0s 12ms/step - loss: 0.2641 - acc: 0.9061\n",
            "Epoch 113/200\n",
            "14/14 [==============================] - 0s 11ms/step - loss: 0.2631 - acc: 0.8685\n",
            "Epoch 114/200\n",
            "14/14 [==============================] - 0s 6ms/step - loss: 0.2451 - acc: 0.9038\n",
            "Epoch 115/200\n",
            "14/14 [==============================] - 0s 7ms/step - loss: 0.2460 - acc: 0.9038\n",
            "Epoch 116/200\n",
            "14/14 [==============================] - 0s 5ms/step - loss: 0.2520 - acc: 0.9038\n",
            "Epoch 117/200\n",
            "14/14 [==============================] - 0s 9ms/step - loss: 0.2477 - acc: 0.9038\n",
            "Epoch 118/200\n",
            "14/14 [==============================] - 0s 8ms/step - loss: 0.2419 - acc: 0.9061\n",
            "Epoch 119/200\n",
            "14/14 [==============================] - 0s 10ms/step - loss: 0.2393 - acc: 0.9085\n",
            "Epoch 120/200\n",
            "14/14 [==============================] - 0s 7ms/step - loss: 0.2526 - acc: 0.9014\n",
            "Epoch 121/200\n",
            "14/14 [==============================] - 0s 10ms/step - loss: 0.2412 - acc: 0.9014\n",
            "Epoch 122/200\n",
            "14/14 [==============================] - 0s 11ms/step - loss: 0.2654 - acc: 0.8991\n",
            "Epoch 123/200\n",
            "14/14 [==============================] - 0s 10ms/step - loss: 0.2821 - acc: 0.9038\n",
            "Epoch 124/200\n",
            "14/14 [==============================] - 0s 10ms/step - loss: 0.2653 - acc: 0.9038\n",
            "Epoch 125/200\n",
            "14/14 [==============================] - 0s 10ms/step - loss: 0.2557 - acc: 0.9038\n",
            "Epoch 126/200\n",
            "14/14 [==============================] - 0s 8ms/step - loss: 0.2663 - acc: 0.9038\n",
            "Epoch 127/200\n",
            "14/14 [==============================] - 0s 6ms/step - loss: 0.2801 - acc: 0.8850\n",
            "Epoch 128/200\n",
            "14/14 [==============================] - 0s 7ms/step - loss: 0.2634 - acc: 0.8967\n",
            "Epoch 129/200\n",
            "14/14 [==============================] - 0s 6ms/step - loss: 0.2582 - acc: 0.8944\n",
            "Epoch 130/200\n",
            "14/14 [==============================] - 0s 6ms/step - loss: 0.2551 - acc: 0.9014\n",
            "Epoch 131/200\n",
            "14/14 [==============================] - 0s 13ms/step - loss: 0.2528 - acc: 0.9061\n",
            "Epoch 132/200\n",
            "14/14 [==============================] - 0s 14ms/step - loss: 0.2545 - acc: 0.9038\n",
            "Epoch 133/200\n",
            "14/14 [==============================] - 0s 5ms/step - loss: 0.2486 - acc: 0.9061\n",
            "Epoch 134/200\n",
            "14/14 [==============================] - 0s 9ms/step - loss: 0.2449 - acc: 0.9085\n",
            "Epoch 135/200\n",
            "14/14 [==============================] - 0s 10ms/step - loss: 0.2392 - acc: 0.9085\n",
            "Epoch 136/200\n",
            "14/14 [==============================] - 0s 7ms/step - loss: 0.2365 - acc: 0.9038\n",
            "Epoch 137/200\n",
            "14/14 [==============================] - 0s 4ms/step - loss: 0.2397 - acc: 0.9014\n",
            "Epoch 138/200\n",
            "14/14 [==============================] - 0s 6ms/step - loss: 0.2415 - acc: 0.9085\n",
            "Epoch 139/200\n",
            "14/14 [==============================] - 0s 9ms/step - loss: 0.2354 - acc: 0.9038\n",
            "Epoch 140/200\n",
            "14/14 [==============================] - 0s 5ms/step - loss: 0.2407 - acc: 0.9085\n",
            "Epoch 141/200\n",
            "14/14 [==============================] - 0s 9ms/step - loss: 0.2327 - acc: 0.9061\n",
            "Epoch 142/200\n",
            "14/14 [==============================] - 0s 6ms/step - loss: 0.2436 - acc: 0.9061\n",
            "Epoch 143/200\n",
            "14/14 [==============================] - 0s 4ms/step - loss: 0.2424 - acc: 0.9108\n",
            "Epoch 144/200\n",
            "14/14 [==============================] - 0s 4ms/step - loss: 0.2351 - acc: 0.9061\n",
            "Epoch 145/200\n",
            "14/14 [==============================] - 0s 3ms/step - loss: 0.2428 - acc: 0.9061\n",
            "Epoch 146/200\n",
            "14/14 [==============================] - 0s 4ms/step - loss: 0.2671 - acc: 0.8685\n",
            "Epoch 147/200\n",
            "14/14 [==============================] - 0s 4ms/step - loss: 0.2598 - acc: 0.8803\n",
            "Epoch 148/200\n",
            "14/14 [==============================] - 0s 7ms/step - loss: 0.2432 - acc: 0.8991\n",
            "Epoch 149/200\n",
            "14/14 [==============================] - 0s 14ms/step - loss: 0.2440 - acc: 0.8897\n",
            "Epoch 150/200\n",
            "14/14 [==============================] - 0s 7ms/step - loss: 0.2482 - acc: 0.9014\n",
            "Epoch 151/200\n",
            "14/14 [==============================] - 0s 6ms/step - loss: 0.2341 - acc: 0.8967\n",
            "Epoch 152/200\n",
            "14/14 [==============================] - 0s 6ms/step - loss: 0.2338 - acc: 0.9061\n",
            "Epoch 153/200\n",
            "14/14 [==============================] - 0s 5ms/step - loss: 0.2377 - acc: 0.9085\n",
            "Epoch 154/200\n",
            "14/14 [==============================] - 0s 4ms/step - loss: 0.2391 - acc: 0.9038\n",
            "Epoch 155/200\n",
            "14/14 [==============================] - 0s 4ms/step - loss: 0.2362 - acc: 0.9061\n",
            "Epoch 156/200\n",
            "14/14 [==============================] - 0s 4ms/step - loss: 0.2395 - acc: 0.9061\n",
            "Epoch 157/200\n",
            "14/14 [==============================] - 0s 5ms/step - loss: 0.2392 - acc: 0.9038\n",
            "Epoch 158/200\n",
            "14/14 [==============================] - 0s 5ms/step - loss: 0.2682 - acc: 0.8615\n",
            "Epoch 159/200\n",
            "14/14 [==============================] - 0s 8ms/step - loss: 0.2655 - acc: 0.8592\n",
            "Epoch 160/200\n",
            "14/14 [==============================] - 0s 3ms/step - loss: 0.2535 - acc: 0.8873\n",
            "Epoch 161/200\n",
            "14/14 [==============================] - 0s 5ms/step - loss: 0.2294 - acc: 0.8897\n",
            "Epoch 162/200\n",
            "14/14 [==============================] - 0s 6ms/step - loss: 0.2712 - acc: 0.9085\n",
            "Epoch 163/200\n",
            "14/14 [==============================] - 0s 7ms/step - loss: 0.2573 - acc: 0.9085\n",
            "Epoch 164/200\n",
            "14/14 [==============================] - 0s 5ms/step - loss: 0.2329 - acc: 0.9085\n",
            "Epoch 165/200\n",
            "14/14 [==============================] - 0s 4ms/step - loss: 0.2360 - acc: 0.9108\n",
            "Epoch 166/200\n",
            "14/14 [==============================] - 0s 3ms/step - loss: 0.2338 - acc: 0.9061\n",
            "Epoch 167/200\n",
            "14/14 [==============================] - 0s 4ms/step - loss: 0.2322 - acc: 0.9061\n",
            "Epoch 168/200\n",
            "14/14 [==============================] - 0s 5ms/step - loss: 0.2414 - acc: 0.9061\n",
            "Epoch 169/200\n",
            "14/14 [==============================] - 0s 4ms/step - loss: 0.2290 - acc: 0.9061\n",
            "Epoch 170/200\n",
            "14/14 [==============================] - 0s 5ms/step - loss: 0.2300 - acc: 0.9085\n",
            "Epoch 171/200\n",
            "14/14 [==============================] - 0s 4ms/step - loss: 0.2286 - acc: 0.9085\n",
            "Epoch 172/200\n",
            "14/14 [==============================] - 0s 9ms/step - loss: 0.2321 - acc: 0.9085\n",
            "Epoch 173/200\n",
            "14/14 [==============================] - 0s 8ms/step - loss: 0.2307 - acc: 0.9108\n",
            "Epoch 174/200\n",
            "14/14 [==============================] - 0s 6ms/step - loss: 0.2377 - acc: 0.9061\n",
            "Epoch 175/200\n",
            "14/14 [==============================] - 0s 8ms/step - loss: 0.2384 - acc: 0.9014\n",
            "Epoch 176/200\n",
            "14/14 [==============================] - 0s 10ms/step - loss: 0.2353 - acc: 0.9108\n",
            "Epoch 177/200\n",
            "14/14 [==============================] - 0s 6ms/step - loss: 0.2306 - acc: 0.9061\n",
            "Epoch 178/200\n",
            "14/14 [==============================] - 0s 5ms/step - loss: 0.2396 - acc: 0.9085\n",
            "Epoch 179/200\n",
            "14/14 [==============================] - 0s 6ms/step - loss: 0.2313 - acc: 0.9085\n",
            "Epoch 180/200\n",
            "14/14 [==============================] - 0s 10ms/step - loss: 0.2281 - acc: 0.9108\n",
            "Epoch 181/200\n",
            "14/14 [==============================] - 0s 6ms/step - loss: 0.2269 - acc: 0.9085\n",
            "Epoch 182/200\n",
            "14/14 [==============================] - 0s 6ms/step - loss: 0.2296 - acc: 0.9085\n",
            "Epoch 183/200\n",
            "14/14 [==============================] - 0s 5ms/step - loss: 0.2342 - acc: 0.9061\n",
            "Epoch 184/200\n",
            "14/14 [==============================] - 0s 4ms/step - loss: 0.2270 - acc: 0.9085\n",
            "Epoch 185/200\n",
            "14/14 [==============================] - 0s 4ms/step - loss: 0.2276 - acc: 0.9085\n",
            "Epoch 186/200\n",
            "14/14 [==============================] - 0s 8ms/step - loss: 0.2278 - acc: 0.9085\n",
            "Epoch 187/200\n",
            "14/14 [==============================] - 0s 4ms/step - loss: 0.2391 - acc: 0.9014\n",
            "Epoch 188/200\n",
            "14/14 [==============================] - 0s 7ms/step - loss: 0.2267 - acc: 0.9108\n",
            "Epoch 189/200\n",
            "14/14 [==============================] - 0s 6ms/step - loss: 0.2333 - acc: 0.9085\n",
            "Epoch 190/200\n",
            "14/14 [==============================] - 0s 5ms/step - loss: 0.2430 - acc: 0.9085\n",
            "Epoch 191/200\n",
            "14/14 [==============================] - 0s 7ms/step - loss: 0.2370 - acc: 0.9038\n",
            "Epoch 192/200\n",
            "14/14 [==============================] - 0s 5ms/step - loss: 0.2273 - acc: 0.9131\n",
            "Epoch 193/200\n",
            "14/14 [==============================] - 0s 4ms/step - loss: 0.2334 - acc: 0.9061\n",
            "Epoch 194/200\n",
            "14/14 [==============================] - 0s 4ms/step - loss: 0.2272 - acc: 0.9085\n",
            "Epoch 195/200\n",
            "14/14 [==============================] - 0s 4ms/step - loss: 0.2249 - acc: 0.9085\n",
            "Epoch 196/200\n",
            "14/14 [==============================] - 0s 7ms/step - loss: 0.2234 - acc: 0.9108\n",
            "Epoch 197/200\n",
            "14/14 [==============================] - 0s 11ms/step - loss: 0.2285 - acc: 0.9085\n",
            "Epoch 198/200\n",
            "14/14 [==============================] - 0s 5ms/step - loss: 0.2286 - acc: 0.9108\n",
            "Epoch 199/200\n",
            "14/14 [==============================] - 0s 11ms/step - loss: 0.2264 - acc: 0.9085\n",
            "Epoch 200/200\n",
            "14/14 [==============================] - 0s 5ms/step - loss: 0.2283 - acc: 0.9085\n"
          ]
        }
      ]
    },
    {
      "cell_type": "code",
      "source": [
        "# 3. 시각화\n",
        "plt.figure(figsize = (15, 5))\n",
        "\n",
        "plt.plot(h.history['acc'], label = 'acc')\n",
        "\n",
        "plt.legend()\n",
        "plt.show()"
      ],
      "metadata": {
        "colab": {
          "base_uri": "https://localhost:8080/",
          "height": 407
        },
        "id": "YhEJYDX1CyHi",
        "outputId": "6605dd24-9e51-49e9-80b5-dc35262b8ad0"
      },
      "execution_count": null,
      "outputs": [
        {
          "output_type": "display_data",
          "data": {
            "text/plain": [
              "<Figure size 1500x500 with 1 Axes>"
            ],
            "image/png": "[encoded data removed]"
          },
          "metadata": {}
        }
      ]
    },
    {
      "cell_type": "code",
      "source": [
        "# 4. 모델 평가\n",
        "model.evaluate(X_test, y_test)"
      ],
      "metadata": {
        "colab": {
          "base_uri": "https://localhost:8080/"
        },
        "id": "KVA8o2fnD3QY",
        "outputId": "e903355c-045f-4f1a-acba-4c021e2ed050"
      },
      "execution_count": null,
      "outputs": [
        {
          "output_type": "stream",
          "name": "stdout",
          "text": [
            "5/5 [==============================] - 0s 3ms/step - loss: 0.1970 - acc: 0.9231\n"
          ]
        },
        {
          "output_type": "execute_result",
          "data": {
            "text/plain": [
              "[0.1969892531633377, 0.9230769276618958]"
            ]
          },
          "metadata": {},
          "execution_count": 28
        }
      ]
    },
    {
      "cell_type": "code",
      "source": [],
      "metadata": {
        "id": "wJddJ4DbD4zQ"
      },
      "execution_count": null,
      "outputs": []
    }
  ]
}